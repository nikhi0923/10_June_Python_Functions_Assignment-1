{
 "cells": [
  {
   "cell_type": "markdown",
   "id": "c81a5278",
   "metadata": {},
   "source": [
    "1.Built-in Functions:\n",
    "Built-in functions are functions that are provided by Python as part of its standard library. These functions are pre-defined and can be directly used without requiring any additional definition. They cover a wide range of tasks, from basic operations to more complex functionalities."
   ]
  },
  {
   "cell_type": "code",
   "execution_count": 1,
   "id": "962397d5",
   "metadata": {},
   "outputs": [
    {
     "name": "stdout",
     "output_type": "stream",
     "text": [
      "Length of the string: 13\n"
     ]
    }
   ],
   "source": [
    "# Example of a built-in function: len()\n",
    "string = \"Hello, World!\"\n",
    "length = len(string)  # Using the len() function to get the length of the string\n",
    "print(\"Length of the string:\", length)  \n"
   ]
  },
  {
   "cell_type": "markdown",
   "id": "84726a57",
   "metadata": {},
   "source": [
    "User-defined Functions:\n",
    "User-defined functions are functions that are created by the programmer to perform specific tasks. These functions are defined using the def keyword, followed by the function name, parameters, and the body of the function. They allow you to encapsulate a sequence of statements into a reusable block of code."
   ]
  },
  {
   "cell_type": "code",
   "execution_count": 2,
   "id": "7a2d2fba",
   "metadata": {},
   "outputs": [
    {
     "name": "stdout",
     "output_type": "stream",
     "text": [
      "Square of 5 is: 25\n"
     ]
    }
   ],
   "source": [
    "# Example of a user-defined function: calculate_square()\n",
    "def calculate_square(number):\n",
    "    square = number * number\n",
    "    return square\n",
    "\n",
    "# Using the user-defined function to calculate the square of a number\n",
    "num = 5\n",
    "result = calculate_square(num)\n",
    "print(\"Square of\", num, \"is:\", result)  "
   ]
  },
  {
   "cell_type": "markdown",
   "id": "2bef0852",
   "metadata": {},
   "source": [
    "2.Positional Arguments:\n",
    "Positional arguments are the most common way to pass arguments to a function. When you use positional arguments, you pass the arguments to the function in the same order as they are defined in the function's parameter list."
   ]
  },
  {
   "cell_type": "code",
   "execution_count": 3,
   "id": "9ab9e77c",
   "metadata": {},
   "outputs": [
    {
     "name": "stdout",
     "output_type": "stream",
     "text": [
      "Hello, Alice You are 25 years old.\n"
     ]
    }
   ],
   "source": [
    "def greet(name, age):\n",
    "    print(\"Hello,\", name, \"You are\", age, \"years old.\")\n",
    "\n",
    "greet(\"Alice\", 25)  # Using positional arguments\n"
   ]
  },
  {
   "cell_type": "markdown",
   "id": "71d8c340",
   "metadata": {},
   "source": [
    "Keyword Arguments:\n",
    "Keyword arguments allow you to pass arguments to a function using the argument name as a key, which can make the code more readable and allow you to pass arguments in a different order than they are defined in the function's parameter list."
   ]
  },
  {
   "cell_type": "code",
   "execution_count": 4,
   "id": "d60f8c21",
   "metadata": {},
   "outputs": [
    {
     "name": "stdout",
     "output_type": "stream",
     "text": [
      "Hello, Bob You are 30 years old.\n"
     ]
    }
   ],
   "source": [
    "def greet(name, age):\n",
    "    print(\"Hello,\", name, \"You are\", age, \"years old.\")\n",
    "\n",
    "greet(age=30, name=\"Bob\")  # Using keyword arguments\n"
   ]
  },
  {
   "cell_type": "markdown",
   "id": "f5a5f154",
   "metadata": {},
   "source": [
    "3.The return statement in a function is used to specify the value that the function should \"return\" to the caller when the function is executed. It serves the purpose of providing a result or output from the function's computation back to the part of the code that called the function.\n",
    "\n",
    "A function can certainly have multiple return statements. However, once a return statement is encountered, the function execution is immediately halted, and the value specified in the return statement is returned to the caller. This means that only one return statement will be executed during a single function call."
   ]
  },
  {
   "cell_type": "code",
   "execution_count": 5,
   "id": "2ccf9953",
   "metadata": {},
   "outputs": [
    {
     "name": "stdout",
     "output_type": "stream",
     "text": [
      "Result 1: 5.0\n",
      "Cannot divide by zero!\n",
      "Result 2: None\n"
     ]
    }
   ],
   "source": [
    "def divide(a, b):\n",
    "    if b == 0:\n",
    "        print(\"Cannot divide by zero!\")\n",
    "        return None  # Returning None as a special value\n",
    "    else:\n",
    "        return a / b\n",
    "\n",
    "result1 = divide(10, 2)\n",
    "print(\"Result 1:\", result1)  \n",
    "result2 = divide(10, 0)\n",
    "print(\"Result 2:\", result2)  "
   ]
  },
  {
   "cell_type": "markdown",
   "id": "b6285d4c",
   "metadata": {},
   "source": [
    "4.Lambda functions in Python are also known as anonymous functions or lambda expressions. They are a way to create small, unnamed functions quickly. Unlike regular functions, which are defined using the def keyword and have a name, lambda functions are created using the lambda keyword and can be used wherever function objects are required.\n",
    "\n",
    "Differences between lambda functions and regular functions:\n",
    "\n",
    "Syntax: Lambda functions are defined using the lambda keyword, followed by the arguments and the expression. Regular functions are defined using the def keyword, followed by the function name, arguments, and a code block.\n",
    "\n",
    "Name: Lambda functions are anonymous, meaning they don't have a name. Regular functions have a defined name.\n",
    "\n",
    "Function Body: Lambda functions can only consist of a single expression, whereas regular functions can have multiple statements in their body."
   ]
  },
  {
   "cell_type": "code",
   "execution_count": 6,
   "id": "8bba1c61",
   "metadata": {},
   "outputs": [
    {
     "name": "stdout",
     "output_type": "stream",
     "text": [
      "8\n"
     ]
    }
   ],
   "source": [
    "def add(x, y):\n",
    "    return x + y\n",
    "\n",
    "result = add(5, 3)\n",
    "print(result)  \n"
   ]
  },
  {
   "cell_type": "markdown",
   "id": "b695b43f",
   "metadata": {},
   "source": [
    "5.Local Scope:\n",
    "Local scope refers to the region within a function where variables are defined. Variables created within a function are said to be in local scope and can only be accessed within that function. They are not visible or accessible outside the function. Once the function completes its execution, the local variables cease to exist.\n",
    "\n"
   ]
  },
  {
   "cell_type": "code",
   "execution_count": null,
   "id": "095bd789",
   "metadata": {},
   "outputs": [],
   "source": [
    "def my_function():\n",
    "    local_variable = 10\n",
    "    print(local_variable)\n",
    "\n",
    "my_function()  \n",
    "# print(local_variable) would result in an error because local_variable is not accessible here\n"
   ]
  },
  {
   "cell_type": "markdown",
   "id": "7e04dec2",
   "metadata": {},
   "source": [
    "Global Scope:\n",
    "Global scope refers to the outermost level of your script or module. Variables defined outside of any function or class are considered to be in the global scope. They can be accessed from any part of the code, including functions. However, to modify global variables within a function, you need to use the global keyword to indicate that you're referring to the global variable and not creating a new local variable."
   ]
  },
  {
   "cell_type": "code",
   "execution_count": 7,
   "id": "b02de7f1",
   "metadata": {},
   "outputs": [
    {
     "name": "stdout",
     "output_type": "stream",
     "text": [
      "20\n",
      "30\n"
     ]
    }
   ],
   "source": [
    "global_variable = 20\n",
    "\n",
    "def my_function():\n",
    "    print(global_variable)\n",
    "\n",
    "my_function()  \n",
    "\n",
    "def modify_global():\n",
    "    global global_variable\n",
    "    global_variable = 30\n",
    "\n",
    "modify_global()\n",
    "print(global_variable) \n"
   ]
  },
  {
   "cell_type": "markdown",
   "id": "104d6f9f",
   "metadata": {},
   "source": [
    "6.We can use the return statement in a function to return multiple values by organizing those values into a data structure, such as a tuple, list, or dictionary.\n",
    "Using Tuple: You can pack multiple values into a tuple and return that tuple from the function."
   ]
  },
  {
   "cell_type": "code",
   "execution_count": 8,
   "id": "855815cf",
   "metadata": {},
   "outputs": [
    {
     "name": "stdout",
     "output_type": "stream",
     "text": [
      "(10, 'hello', [1, 2, 3])\n"
     ]
    }
   ],
   "source": [
    "def multiple_values():\n",
    "    value1 = 10\n",
    "    value2 = \"hello\"\n",
    "    value3 = [1, 2, 3]\n",
    "    return value1, value2, value3\n",
    "\n",
    "result = multiple_values()\n",
    "print(result)  \n"
   ]
  },
  {
   "cell_type": "code",
   "execution_count": 9,
   "id": "014580de",
   "metadata": {},
   "outputs": [
    {
     "name": "stdout",
     "output_type": "stream",
     "text": [
      "[10, 'hello', [1, 2, 3]]\n"
     ]
    }
   ],
   "source": [
    "#Using List: Similar to tuples, you can use a list to hold multiple values and return the list.\n",
    "def multiple_values():\n",
    "    value1 = 10\n",
    "    value2 = \"hello\"\n",
    "    value3 = [1, 2, 3]\n",
    "    return [value1, value2, value3]\n",
    "\n",
    "result = multiple_values()\n",
    "print(result) \n",
    "\n",
    "\n"
   ]
  },
  {
   "cell_type": "code",
   "execution_count": 10,
   "id": "413516a1",
   "metadata": {},
   "outputs": [
    {
     "name": "stdout",
     "output_type": "stream",
     "text": [
      "{'value1': 10, 'value2': 'hello', 'value3': [1, 2, 3]}\n"
     ]
    }
   ],
   "source": [
    "#Using Dictionary: You can also organize values as key-value pairs in a dictionary and return the dictionary.\n",
    "\n",
    "def multiple_values():\n",
    "    value1 = 10\n",
    "    value2 = \"hello\"\n",
    "    value3 = [1, 2, 3]\n",
    "    return {'value1': value1, 'value2': value2, 'value3': value3}\n",
    "\n",
    "result = multiple_values()\n",
    "print(result)  "
   ]
  },
  {
   "cell_type": "markdown",
   "id": "28aad99f",
   "metadata": {},
   "source": [
    "7.Python's argument passing mechanism is more accurately described as \"pass by object reference.\" Changes to mutable objects (like lists) made within a function are reflected outside the function, but reassigning the parameter to a new object won't affect the original object. For immutable objects (like integers or strings), the behavior is more similar to \"pass by value\" because you can't modify the object itself."
   ]
  },
  {
   "cell_type": "code",
   "execution_count": 11,
   "id": "00e6d12e",
   "metadata": {},
   "outputs": [
    {
     "name": "stdout",
     "output_type": "stream",
     "text": [
      "[0, 1, 2, 4]\n",
      "[0, 1, 2, 4]\n"
     ]
    }
   ],
   "source": [
    "def modify_list(lst):\n",
    "    lst.append(4)  # This modifies the list object, affecting the original list.\n",
    "\n",
    "def reassign_list(lst):\n",
    "    lst = [1, 2, 3]  # This reassigns the parameter to a new list object, not affecting the original list.\n",
    "\n",
    "my_list = [0, 1, 2]\n",
    "modify_list(my_list)\n",
    "print(my_list)  \n",
    "\n",
    "reassign_list(my_list)\n",
    "print(my_list)  # unchanged after reassignment inside the function\n"
   ]
  },
  {
   "cell_type": "code",
   "execution_count": 12,
   "id": "7aee80f8",
   "metadata": {},
   "outputs": [
    {
     "name": "stdout",
     "output_type": "stream",
     "text": [
      "Enter a numeric value: 3\n",
      "Logarithmic: 1.0986122886681098\n",
      "Exponential: 20.085536923187668\n",
      "Power of 2: 8.0\n",
      "Square Root: 1.7320508075688772\n"
     ]
    }
   ],
   "source": [
    "#8\n",
    "import math\n",
    "\n",
    "def perform_operations(x):\n",
    "    result_log = math.log(x)\n",
    "    result_exp = math.exp(x)\n",
    "    result_power = 2 ** x\n",
    "    result_sqrt = math.sqrt(x)\n",
    "    \n",
    "    return {\n",
    "        \"logarithmic\": result_log,\n",
    "        \"exponential\": result_exp,\n",
    "        \"power_2\": result_power,\n",
    "        \"square_root\": result_sqrt\n",
    "    }\n",
    "\n",
    "# Example usage:\n",
    "input_value = float(input(\"Enter a numeric value: \"))\n",
    "results = perform_operations(input_value)\n",
    "print(f\"Logarithmic: {results['logarithmic']}\")\n",
    "print(f\"Exponential: {results['exponential']}\")\n",
    "print(f\"Power of 2: {results['power_2']}\")\n",
    "print(f\"Square Root: {results['square_root']}\")\n"
   ]
  },
  {
   "cell_type": "code",
   "execution_count": 15,
   "id": "b25ee173",
   "metadata": {},
   "outputs": [
    {
     "name": "stdout",
     "output_type": "stream",
     "text": [
      "Enter a full name: Nikhila Jana\n",
      "First Name: Nikhila\n",
      "Last Name: Jana\n"
     ]
    }
   ],
   "source": [
    "#9\n",
    "def extract_names(full_name):\n",
    "    names = full_name.split()\n",
    "    if len(names) >= 2:\n",
    "        first_name = names[0]\n",
    "        last_name = ' '.join(names[1:])\n",
    "    else:\n",
    "        first_name = full_name\n",
    "        last_name = \"\"\n",
    "\n",
    "    return first_name, last_name\n",
    "\n",
    "# Example usage:\n",
    "full_name = input(\"Enter a full name: \")\n",
    "first_name, last_name = extract_names(full_name)\n",
    "print(\"First Name:\", first_name)\n",
    "print(\"Last Name:\", last_name)\n"
   ]
  },
  {
   "cell_type": "code",
   "execution_count": null,
   "id": "f9d0f737",
   "metadata": {},
   "outputs": [],
   "source": []
  },
  {
   "cell_type": "code",
   "execution_count": null,
   "id": "83b90470",
   "metadata": {},
   "outputs": [],
   "source": []
  },
  {
   "cell_type": "code",
   "execution_count": null,
   "id": "885a136f",
   "metadata": {},
   "outputs": [],
   "source": []
  },
  {
   "cell_type": "code",
   "execution_count": null,
   "id": "dee5777b",
   "metadata": {},
   "outputs": [],
   "source": []
  },
  {
   "cell_type": "code",
   "execution_count": null,
   "id": "ba022b08",
   "metadata": {},
   "outputs": [],
   "source": []
  }
 ],
 "metadata": {
  "kernelspec": {
   "display_name": "Python 3 (ipykernel)",
   "language": "python",
   "name": "python3"
  },
  "language_info": {
   "codemirror_mode": {
    "name": "ipython",
    "version": 3
   },
   "file_extension": ".py",
   "mimetype": "text/x-python",
   "name": "python",
   "nbconvert_exporter": "python",
   "pygments_lexer": "ipython3",
   "version": "3.10.9"
  }
 },
 "nbformat": 4,
 "nbformat_minor": 5
}
